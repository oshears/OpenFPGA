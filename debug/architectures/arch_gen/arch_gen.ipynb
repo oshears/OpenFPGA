{
 "cells": [
  {
   "cell_type": "code",
   "execution_count": 3,
   "metadata": {},
   "outputs": [],
   "source": [
    "for i in range(1,16):\n",
    "    output = f\"{bin(i)[2:]}\".zfill(16)\n",
    "    # print(output)\n",
    "\n",
    "    fh = open(f\"./results/design_{i}.v\",\"w+\")\n",
    "    # fh.write(f\"{output}\")\n",
    "    fh.write(f\"`timescale 1ns / 1ps\\n\")\n",
    "    fh.write(f\"\\n\")\n",
    "    fh.write(f\"module generic_func(lut_in3, lut_in2, lut_in1, lut_in0, lut_out);\\n\")\n",
    "    fh.write(f\"\\n\")\n",
    "    # fh.write(f\"input wire [3:0] lut_in;\\n\")\n",
    "    for j in range(4):\n",
    "        fh.write(f\"input wire lut_in{j};\\n\")\n",
    "    fh.write(f\"output reg lut_out;\\n\")\n",
    "    fh.write(f\"\\n\")\n",
    "    fh.write(f\"always @(*) begin\\n\")\n",
    "    fh.write(f\"\\tcase ({{lut_in3, lut_in2, lut_in1, lut_in0}})\\n\")\n",
    "    for j in range(16):\n",
    "        fh.write(f\"\\t\\t4'b{bin(j)[2:].zfill(4)}: lut_out <= {output[j]};\\n\")\n",
    "    fh.write(f\"\\t\\tdefault: lut_out <= 0;\\n\")\n",
    "    fh.write(f\"\\tendcase\\n\")\n",
    "    fh.write(f\"end\\n\")\n",
    "    fh.write(f\"endmodule\\n\")\n",
    "    fh.close()"
   ]
  },
  {
   "cell_type": "code",
   "execution_count": 24,
   "metadata": {},
   "outputs": [
    {
     "name": "stdout",
     "output_type": "stream",
     "text": [
      "bench0\n",
      "bench1\n",
      "bench2\n",
      "bench3\n",
      "bench4\n",
      "bench5\n",
      "bench6\n",
      "bench7\n",
      "bench8\n",
      "bench9\n",
      "bench10\n",
      "bench11\n",
      "bench12\n",
      "bench13\n",
      "bench14\n",
      "bench15\n"
     ]
    }
   ],
   "source": [
    "for i in range(16):\n",
    "    print(f\"bench{i}\")"
   ]
  }
 ],
 "metadata": {
  "kernelspec": {
   "display_name": "Python 3",
   "language": "python",
   "name": "python3"
  },
  "language_info": {
   "codemirror_mode": {
    "name": "ipython",
    "version": 3
   },
   "file_extension": ".py",
   "mimetype": "text/x-python",
   "name": "python",
   "nbconvert_exporter": "python",
   "pygments_lexer": "ipython3",
   "version": "3.10.12"
  }
 },
 "nbformat": 4,
 "nbformat_minor": 2
}
