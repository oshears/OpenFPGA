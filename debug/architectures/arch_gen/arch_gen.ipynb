{
 "cells": [
  {
   "cell_type": "code",
   "execution_count": 22,
   "metadata": {},
   "outputs": [],
   "source": [
    "for i in range(16):\n",
    "    output = f\"{bin(i)[2:]}\".zfill(16)\n",
    "    # print(output)\n",
    "\n",
    "    fh = open(f\"./results/design_{i}.v\",\"w+\")\n",
    "    # fh.write(f\"{output}\")\n",
    "    fh.write(f\"`timescale 1ns / 1ps\\n\")\n",
    "    fh.write(f\"\\n\")\n",
    "    fh.write(f\"module generic_func(lut_in,lut_out);\\n\")\n",
    "    fh.write(f\"\\n\")\n",
    "    fh.write(f\"input wire [3:0] lut_in;\\n\")\n",
    "    fh.write(f\"output wire lut_out;\\n\")\n",
    "    fh.write(f\"\\n\")\n",
    "    fh.write(f\"always@(*) begin\\n\")\n",
    "    fh.write(f\"\\tcase (lut_in)\\n\")\n",
    "    for i in range(16):\n",
    "        fh.write(f\"\\t\\t4'b{bin(i)[2:].zfill(4)}: lut_out <= {output[i]};\\n\")\n",
    "    fh.write(f\"\\t\\tdefault: lut_out <= 0;\\n\")\n",
    "    fh.write(f\"\\tendcase;\\n\")\n",
    "    fh.write(f\"end\\n\")\n",
    "    fh.write(f\"endmodule\\n\")\n",
    "    fh.close()"
   ]
  }
 ],
 "metadata": {
  "kernelspec": {
   "display_name": "Python 3",
   "language": "python",
   "name": "python3"
  },
  "language_info": {
   "codemirror_mode": {
    "name": "ipython",
    "version": 3
   },
   "file_extension": ".py",
   "mimetype": "text/x-python",
   "name": "python",
   "nbconvert_exporter": "python",
   "pygments_lexer": "ipython3",
   "version": "3.10.12"
  }
 },
 "nbformat": 4,
 "nbformat_minor": 2
}
