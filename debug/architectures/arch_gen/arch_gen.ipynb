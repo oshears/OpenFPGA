{
 "cells": [
  {
   "cell_type": "code",
   "execution_count": 7,
   "metadata": {},
   "outputs": [
    {
     "name": "stdout",
     "output_type": "stream",
     "text": [
      "0000000000000000\n",
      "0000000000000001\n",
      "0000000000000010\n",
      "0000000000000011\n",
      "0000000000000100\n",
      "0000000000000101\n",
      "0000000000000110\n",
      "0000000000000111\n",
      "0000000000001000\n",
      "0000000000001001\n",
      "0000000000001010\n",
      "0000000000001011\n",
      "0000000000001100\n",
      "0000000000001101\n",
      "0000000000001110\n",
      "0000000000001111\n"
     ]
    }
   ],
   "source": [
    "for i in range(16):\n",
    "    output = f\"{bin(i)[2:]}\".zfill(16)\n",
    "    print(output)\n",
    "\n",
    "    fh = open(f\"design_{i}.v\",\"w+\")\n",
    "    fh.write(f\"{i}\")\n",
    "    fh.close()"
   ]
  }
 ],
 "metadata": {
  "kernelspec": {
   "display_name": "Python 3",
   "language": "python",
   "name": "python3"
  },
  "language_info": {
   "codemirror_mode": {
    "name": "ipython",
    "version": 3
   },
   "file_extension": ".py",
   "mimetype": "text/x-python",
   "name": "python",
   "nbconvert_exporter": "python",
   "pygments_lexer": "ipython3",
   "version": "3.10.12"
  }
 },
 "nbformat": 4,
 "nbformat_minor": 2
}
